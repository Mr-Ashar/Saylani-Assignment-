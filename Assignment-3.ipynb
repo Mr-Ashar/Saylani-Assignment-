{
 "cells": [
  {
   "cell_type": "code",
   "execution_count": 28,
   "metadata": {},
   "outputs": [
    {
     "name": "stdout",
     "output_type": "stream",
     "text": [
      "Enter first value: 5\n",
      "Enter second value: 3\n",
      "\n",
      "Enter 1 to do addition :\n",
      "Enter 2 to do subtraction :\n",
      "Enter 3 to do multiplication :\n",
      "Enter 4 to do division :\n",
      "Enter 5 to do power: \n",
      "Enter your choice: 3\n",
      "\n",
      "Answer : 15\n"
     ]
    }
   ],
   "source": [
    "Ans = None\n",
    "num1 = int(input(\"Enter first value: \"))\n",
    "num2 = int(input(\"Enter second value: \"))\n",
    "\n",
    "print(\"\\nEnter 1 to do addition :\")\n",
    "print(\"Enter 2 to do subtraction :\")\n",
    "print(\"Enter 3 to do multiplication :\")\n",
    "print(\"Enter 4 to do division :\")\n",
    "print(\"Enter 5 to do power: \")\n",
    "choice = int(input(\"Enter your choice: \"))\n",
    "\n",
    "if choice == 1:\n",
    "    Ans = num1+num2\n",
    "elif choice == 2:\n",
    "    Ans = num1-num2\n",
    "elif choice == 3:\n",
    "    Ans = num1*num2\n",
    "elif choice == 4:\n",
    "    Ans = num1/num2\n",
    "elif choice == 5:\n",
    "    Ans = num1**num2\n",
    "    \n",
    "print(f\"\\nAnswer : {Ans}\")"
   ]
  },
  {
   "cell_type": "code",
   "execution_count": 3,
   "metadata": {},
   "outputs": [
    {
     "name": "stdout",
     "output_type": "stream",
     "text": [
      "Numeric value found : 8\n"
     ]
    }
   ],
   "source": [
    "x = [ \"3\", 8,\"Hello\" , \"45\" , \"Ashar\"]\n",
    "for value in x:\n",
    "    if type(value) == int or type(value) == float:\n",
    "        print(f\"Numeric value found : {value}\")\n",
    "        break"
   ]
  },
  {
   "cell_type": "code",
   "execution_count": 15,
   "metadata": {},
   "outputs": [
    {
     "name": "stdout",
     "output_type": "stream",
     "text": [
      "Your Key is added!\n"
     ]
    }
   ],
   "source": [
    "d= {0:3 , 2:5}\n",
    "d[1] = \"Your Key is added!\"\n",
    "\n",
    "print(d[1])"
   ]
  },
  {
   "cell_type": "code",
   "execution_count": 18,
   "metadata": {},
   "outputs": [
    {
     "name": "stdout",
     "output_type": "stream",
     "text": [
      "Sum = 174\n"
     ]
    }
   ],
   "source": [
    "\n",
    "result = 0\n",
    "d = {1:84 , 2:\"Ashar\", 3:25, 4:65, 5:\"Not numerical\"}\n",
    "\n",
    "for value in d.values():\n",
    "    if type(value) == int or type(value) == float:\n",
    "        result = result + value        \n",
    "        \n",
    "print(f\"Sum = {result}\")"
   ]
  },
  {
   "cell_type": "code",
   "execution_count": 21,
   "metadata": {},
   "outputs": [
    {
     "name": "stdout",
     "output_type": "stream",
     "text": [
      "Duplicated Ashar\n",
      "Duplicated 2\n",
      "Duplicated 54\n",
      "Duplicated 2\n",
      "Duplicated 54\n",
      "Duplicated Ashar\n"
     ]
    }
   ],
   "source": [
    "\n",
    "x = [\"Ashar\",2,54,2,54,34,21,1,\"Ashar\",\"Hello World!\"]\n",
    "for value in x:\n",
    "    if  x.count(value) > 1:\n",
    "        print(f\"Duplicated {value}\")"
   ]
  },
  {
   "cell_type": "code",
   "execution_count": 26,
   "metadata": {},
   "outputs": [
    {
     "name": "stdout",
     "output_type": "stream",
     "text": [
      "2 Already exists\n"
     ]
    }
   ],
   "source": [
    "d = { 1: \"This is key1\", 2: \"This is key2\", 3: \"This is key3\"}\n",
    "\n",
    "given_key = 2\n",
    "\n",
    "for key in dic.keys():\n",
    "    if key == given_key:\n",
    "        print(f\"{given_key} Already exists\")"
   ]
  }
 ],
 "metadata": {
  "kernelspec": {
   "display_name": "Python 3",
   "language": "python",
   "name": "python3"
  },
  "language_info": {
   "codemirror_mode": {
    "name": "ipython",
    "version": 3
   },
   "file_extension": ".py",
   "mimetype": "text/x-python",
   "name": "python",
   "nbconvert_exporter": "python",
   "pygments_lexer": "ipython3",
   "version": "3.7.4"
  }
 },
 "nbformat": 4,
 "nbformat_minor": 2
}
