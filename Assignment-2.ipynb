{
 "cells": [
  {
   "cell_type": "code",
   "execution_count": 6,
   "metadata": {},
   "outputs": [
    {
     "name": "stdout",
     "output_type": "stream",
     "text": [
      "***Your Marksheet***\n",
      "Enter your marks of English out of 100 = 80\n",
      "Enter your marks of Urdu out of 100 = 90\n",
      "Enter your marks of Chemistry out of 100 = 90\n",
      "Enter your marks of Physics out of 100 = 90\n",
      "Enter your marks of Maths out of 100 = 90\n",
      "Your Total Marks are 440\n",
      "Your Percentage is 88.0\n",
      "Congratulations! You have secured Grade A+\n"
     ]
    }
   ],
   "source": [
    "print(\"***Your Marksheet***\")\n",
    "English= int(input(\"Enter your marks of English out of 100 = \"))\n",
    "Urdu= int(input(\"Enter your marks of Urdu out of 100 = \"))\n",
    "Chemistry= int(input(\"Enter your marks of Chemistry out of 100 = \"))\n",
    "Physics= int(input(\"Enter your marks of Physics out of 100 = \"))\n",
    "Maths= int(input(\"Enter your marks of Maths out of 100 = \"))\n",
    "Total_marks= English+Urdu+Chemistry+Physics+Maths\n",
    "Percentage= (Total_marks/500)*100\n",
    "print(\"Your Total Marks are \" + str(Total_marks))\n",
    "print(\"Your Percentage is\" + \" \" + str(Percentage))\n",
    "if Percentage >= 80 and Percentage <=100:\n",
    " print(\"Congratulations! You have secured Grade A+\")\n",
    "elif Percentage <80 and Percentage >=70:\n",
    " print(\"Congratulations! You have secured Grade A\")\n",
    "elif Percentage <70 and Percentage >=60:\n",
    " print(\"Congratulations You have secured Grade B\")\n",
    "elif Percentage <60 and Percentage >=50:\n",
    " print(\"Congratulations You have secured Grade C\")\n",
    "elif Percentage <50 and Percentage >=40:\n",
    " print(\"Congratulations You have secured Grade D\")\n",
    "else:\n",
    " print(\"You have failed in examinations\")"
   ]
  },
  {
   "cell_type": "code",
   "execution_count": 15,
   "metadata": {},
   "outputs": [
    {
     "name": "stdout",
     "output_type": "stream",
     "text": [
      "Enter a number: 8\n",
      "It's is an even number.\n"
     ]
    }
   ],
   "source": [
    "num = int(input(\"Enter a number: \"))\n",
    "remainder = num % 2\n",
    "if remainder > 0:\n",
    "    print(\"It is an odd number.\")\n",
    "else:\n",
    "    print(\"It's is an even number.\")"
   ]
  },
  {
   "cell_type": "code",
   "execution_count": 21,
   "metadata": {},
   "outputs": [
    {
     "name": "stdout",
     "output_type": "stream",
     "text": [
      "The length of list is:  4\n"
     ]
    }
   ],
   "source": [
    "List = [] \n",
    "List.append(\"Gandum\") \n",
    "List.append(\"Attah\") \n",
    "List.append(\"Dahi\") \n",
    "List.append(\"Chawal\")\n",
    "List.append(\"Sabzi\")\n",
    "print(\"The length of list is: \", len(List))"
   ]
  },
  {
   "cell_type": "code",
   "execution_count": 28,
   "metadata": {},
   "outputs": [
    {
     "name": "stdout",
     "output_type": "stream",
     "text": [
      "103\n"
     ]
    }
   ],
   "source": [
    "List = [9,5,3,25,7,42,5,1,5,1]\n",
    "print(sum (List))"
   ]
  },
  {
   "cell_type": "code",
   "execution_count": 31,
   "metadata": {},
   "outputs": [
    {
     "name": "stdout",
     "output_type": "stream",
     "text": [
      "the Largest Number is : 857\n"
     ]
    }
   ],
   "source": [
    "List = [78,151,87,857,54,15,51,87,318,856,45,65,]\n",
    "print(\"the Largest Number is :\" , max(List))"
   ]
  },
  {
   "cell_type": "code",
   "execution_count": 41,
   "metadata": {},
   "outputs": [
    {
     "name": "stdout",
     "output_type": "stream",
     "text": [
      "1\n",
      "1\n",
      "2\n",
      "3\n"
     ]
    }
   ],
   "source": [
    "a = [1, 1, 2, 3, 5, 8, 13, 21, 34, 55, 89]\n",
    "for i in a:\n",
    "    if i < 5:\n",
    "        print (i)"
   ]
  },
  {
   "cell_type": "code",
   "execution_count": null,
   "metadata": {},
   "outputs": [],
   "source": []
  }
 ],
 "metadata": {
  "kernelspec": {
   "display_name": "Python 3",
   "language": "python",
   "name": "python3"
  },
  "language_info": {
   "codemirror_mode": {
    "name": "ipython",
    "version": 3
   },
   "file_extension": ".py",
   "mimetype": "text/x-python",
   "name": "python",
   "nbconvert_exporter": "python",
   "pygments_lexer": "ipython3",
   "version": "3.7.4"
  }
 },
 "nbformat": 4,
 "nbformat_minor": 2
}
