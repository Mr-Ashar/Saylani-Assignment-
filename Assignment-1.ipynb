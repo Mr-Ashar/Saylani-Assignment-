{
 "cells": [
  {
   "cell_type": "code",
   "execution_count": 1,
   "metadata": {},
   "outputs": [
    {
     "name": "stdout",
     "output_type": "stream",
     "text": [
      "Twinkle, twinkle, little star,\n",
      " \tHow I wonder what you are!\n",
      " \t\tUp above the world so high,\n",
      " \t\tLike a diamond in the sky.\n",
      "Twinkle, twinkle, little star,\n",
      " \tHow I wonder what you are!\n"
     ]
    }
   ],
   "source": [
    "print(\"Twinkle, twinkle, little star,\\n \\tHow I wonder what you are!\\n \\t\\tUp above the world so high,\\n \\t\\tLike a diamond in the sky.\\nTwinkle, twinkle, little star,\\n \\tHow I wonder what you are!\")"
   ]
  },
  {
   "cell_type": "code",
   "execution_count": 2,
   "metadata": {},
   "outputs": [
    {
     "name": "stdout",
     "output_type": "stream",
     "text": [
      "3.7.4 (default, Aug  9 2019, 18:34:13) [MSC v.1915 64 bit (AMD64)]\n"
     ]
    }
   ],
   "source": [
    "import sys\n",
    "print(sys.version)"
   ]
  },
  {
   "cell_type": "code",
   "execution_count": 3,
   "metadata": {},
   "outputs": [
    {
     "name": "stdout",
     "output_type": "stream",
     "text": [
      "Current date and time :  12-11-2019 21:15:59\n"
     ]
    }
   ],
   "source": [
    "import datetime\n",
    "current = datetime.datetime.now()\n",
    "print (\"Current date and time : \",current.strftime(\"%d-%m-%Y %H:%M:%S\"))"
   ]
  },
  {
   "cell_type": "code",
   "execution_count": 5,
   "metadata": {},
   "outputs": [
    {
     "name": "stdout",
     "output_type": "stream",
     "text": [
      "Enter radius of the circle: 45\n",
      "Area of the given circle is  6358.5\n"
     ]
    }
   ],
   "source": [
    "radius=float(input(\"Enter radius of the circle: \"))\n",
    "r2= radius**2\n",
    "Area=3.14*r2\n",
    "print (\"Area of the given circle is \",Area)"
   ]
  },
  {
   "cell_type": "code",
   "execution_count": 6,
   "metadata": {},
   "outputs": [
    {
     "name": "stdout",
     "output_type": "stream",
     "text": [
      "Enter first name: Ashar\n",
      "Enter last name: Naeem\n",
      "Naeem Ashar\n"
     ]
    }
   ],
   "source": [
    "FirstName=str(input(\"Enter first name: \"));\n",
    "LastName=str(input(\"Enter last name: \"));\n",
    "print(LastName,FirstName)"
   ]
  },
  {
   "cell_type": "code",
   "execution_count": 7,
   "metadata": {},
   "outputs": [
    {
     "name": "stdout",
     "output_type": "stream",
     "text": [
      "Enter first value: 2\n",
      "Enter second value: 5\n",
      "The sum of both the values is:  7.0\n"
     ]
    }
   ],
   "source": [
    "num1=float(input(\"Enter first value: \"))\n",
    "num2=float(input(\"Enter second value: \"))\n",
    "result=num1+num2\n",
    "print(\"The sum of both the values is: \",result)"
   ]
  },
  {
   "cell_type": "code",
   "execution_count": null,
   "metadata": {},
   "outputs": [],
   "source": []
  }
 ],
 "metadata": {
  "kernelspec": {
   "display_name": "Python 3",
   "language": "python",
   "name": "python3"
  },
  "language_info": {
   "codemirror_mode": {
    "name": "ipython",
    "version": 3
   },
   "file_extension": ".py",
   "mimetype": "text/x-python",
   "name": "python",
   "nbconvert_exporter": "python",
   "pygments_lexer": "ipython3",
   "version": "3.7.4"
  }
 },
 "nbformat": 4,
 "nbformat_minor": 2
}
